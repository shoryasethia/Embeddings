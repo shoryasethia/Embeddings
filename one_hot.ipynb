{
 "cells": [
  {
   "cell_type": "code",
   "execution_count": 1,
   "metadata": {},
   "outputs": [],
   "source": [
    "import tensorflow as tf\n",
    "from tensorflow.keras.preprocessing.text import one_hot"
   ]
  },
  {
   "cell_type": "code",
   "execution_count": 2,
   "metadata": {},
   "outputs": [],
   "source": [
    "senetnces = [ \"I ate my apple yeasterday.\",\n",
    "             \"That day what were you doing under shades.\",\n",
    "             \"I am a good developer.\",\n",
    "             \"The cup of tea.\",\n",
    "             \"Prime minister is appointed for the third time in a row.\",\n",
    "]"
   ]
  },
  {
   "cell_type": "code",
   "execution_count": 3,
   "metadata": {},
   "outputs": [
    {
     "data": {
      "text/plain": [
       "['I ate my apple yeasterday.',\n",
       " 'That day what were you doing under shades.',\n",
       " 'I am a good developer.',\n",
       " 'The cup of tea.',\n",
       " 'Prime minister is appointed for the third time in a row.']"
      ]
     },
     "execution_count": 3,
     "metadata": {},
     "output_type": "execute_result"
    }
   ],
   "source": [
    "senetnces"
   ]
  },
  {
   "cell_type": "code",
   "execution_count": 4,
   "metadata": {},
   "outputs": [],
   "source": [
    "vocab_size = 10000"
   ]
  },
  {
   "cell_type": "code",
   "execution_count": 6,
   "metadata": {},
   "outputs": [],
   "source": [
    "one_hot_vector = [one_hot(words, vocab_size) for words in senetnces]"
   ]
  },
  {
   "cell_type": "code",
   "execution_count": 7,
   "metadata": {},
   "outputs": [
    {
     "data": {
      "text/plain": [
       "[[7210, 2970, 1913, 2589, 2162],\n",
       " [6070, 4771, 345, 7453, 7893, 9421, 8720, 7850],\n",
       " [7210, 1852, 5461, 226, 4600],\n",
       " [3141, 2513, 6684, 82],\n",
       " [2282, 848, 472, 3532, 5451, 3141, 7912, 3638, 1957, 5461, 7020]]"
      ]
     },
     "execution_count": 7,
     "metadata": {},
     "output_type": "execute_result"
    }
   ],
   "source": [
    "one_hot_vector"
   ]
  },
  {
   "cell_type": "code",
   "execution_count": null,
   "metadata": {},
   "outputs": [],
   "source": []
  }
 ],
 "metadata": {
  "kernelspec": {
   "display_name": "myenv",
   "language": "python",
   "name": "python3"
  },
  "language_info": {
   "codemirror_mode": {
    "name": "ipython",
    "version": 3
   },
   "file_extension": ".py",
   "mimetype": "text/x-python",
   "name": "python",
   "nbconvert_exporter": "python",
   "pygments_lexer": "ipython3",
   "version": "3.9.19"
  }
 },
 "nbformat": 4,
 "nbformat_minor": 2
}
